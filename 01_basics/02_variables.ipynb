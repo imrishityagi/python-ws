{
 "cells": [
  {
   "cell_type": "code",
   "execution_count": 2,
   "metadata": {},
   "outputs": [
    {
     "name": "stdout",
     "output_type": "stream",
     "text": [
      "10\n",
      "20\n"
     ]
    }
   ],
   "source": [
    "# variables - it is a fundamental of every programming language and it is used to store data temporarily in the computer's memory\n",
    "price = 10  # when this will be executed, python interpretor will allocate some space in the memory and attact the label price to that memory location. Now we can use this label to access the value anywhere in the program\n",
    "print(price)\n",
    "\n",
    "# word 'price' is also called as identifier here.\n",
    "# any value of variable going to stored in the memory is first converted to binary and then stored in the memory\n",
    "\n",
    "price = 20  # price is now updated and onwards from here tha value become 20\n",
    "print(price)"
   ]
  },
  {
   "cell_type": "code",
   "execution_count": 3,
   "metadata": {},
   "outputs": [
    {
     "name": "stdout",
     "output_type": "stream",
     "text": [
      "10\n",
      "True\n"
     ]
    }
   ],
   "source": [
    "price = 10           # integer/number variable\n",
    "rating = 7.6         # floating value or float\n",
    "name = \"Rishabh\"     # string\n",
    "is_Published = True  # boolean\n",
    "print(price)\n",
    "print(is_Published)\n",
    "\n",
    "# python is a case senstive language - True(Keyword) and true(identifier) are two different things\n",
    "# in python we can also store comples values like - list and objects etc."
   ]
  },
  {
   "cell_type": "code",
   "execution_count": 4,
   "metadata": {},
   "outputs": [
    {
     "name": "stdout",
     "output_type": "stream",
     "text": [
      "John Smith\n",
      "30\n",
      "True\n"
     ]
    }
   ],
   "source": [
    "# exercise - store patient's data:\n",
    "name = \"John Smith\"\n",
    "age = 30\n",
    "is_Addmitted = True\n",
    "print(name)\n",
    "print(age)\n",
    "print(is_Addmitted)"
   ]
  }
 ],
 "metadata": {
  "kernelspec": {
   "display_name": "Python 3",
   "language": "python",
   "name": "python3"
  },
  "language_info": {
   "codemirror_mode": {
    "name": "ipython",
    "version": 3
   },
   "file_extension": ".py",
   "mimetype": "text/x-python",
   "name": "python",
   "nbconvert_exporter": "python",
   "pygments_lexer": "ipython3",
   "version": "3.12.2"
  }
 },
 "nbformat": 4,
 "nbformat_minor": 2
}
