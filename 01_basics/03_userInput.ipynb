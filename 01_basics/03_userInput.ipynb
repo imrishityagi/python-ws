{
 "cells": [
  {
   "cell_type": "code",
   "execution_count": 3,
   "metadata": {},
   "outputs": [
    {
     "name": "stdout",
     "output_type": "stream",
     "text": [
      "Hi Rishabh\n"
     ]
    }
   ],
   "source": [
    "# to take user input we use inbuilt python input() function\n",
    "# in python we have bunch of function for common tasks such as input() for user input and print() for output\n",
    "name = input('what is your name? ')\n",
    "print('Hi ' + name) # here we are doing string concatenation"
   ]
  },
  {
   "cell_type": "code",
   "execution_count": 8,
   "metadata": {},
   "outputs": [
    {
     "name": "stdout",
     "output_type": "stream",
     "text": [
      "rishabh's fav color is yellow\n"
     ]
    }
   ],
   "source": [
    "# exercise - ask the user its name and fav color\n",
    "name = input('what is your name: ')\n",
    "color = input('what is your fav color: ')\n",
    "print(name + \"'s fav color is \" + color)"
   ]
  },
  {
   "cell_type": "code",
   "execution_count": 9,
   "metadata": {},
   "outputs": [
    {
     "name": "stdout",
     "output_type": "stream",
     "text": [
      "<class 'str'>\n",
      "<class 'int'>\n"
     ]
    }
   ],
   "source": [
    "# note that by default python takes input in the form of strings\n",
    "rank = input('enter your rank: ')\n",
    "print(type(rank))\n",
    "\n",
    "# to take the input in the form of numbers we have to typecast it to integer\n",
    "score = int(input('what is your score: '))\n",
    "print(type(score))"
   ]
  }
 ],
 "metadata": {
  "kernelspec": {
   "display_name": "Python 3",
   "language": "python",
   "name": "python3"
  },
  "language_info": {
   "codemirror_mode": {
    "name": "ipython",
    "version": 3
   },
   "file_extension": ".py",
   "mimetype": "text/x-python",
   "name": "python",
   "nbconvert_exporter": "python",
   "pygments_lexer": "ipython3",
   "version": "3.11.7"
  }
 },
 "nbformat": 4,
 "nbformat_minor": 2
}
