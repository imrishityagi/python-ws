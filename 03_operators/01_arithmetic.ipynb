{
 "cells": [
  {
   "cell_type": "code",
   "execution_count": 1,
   "metadata": {},
   "outputs": [],
   "source": [
    "# we have two types of numbers \n",
    "# one is like '10' - which are whole numbers and  integers in python\n",
    "# other one is like - which are floting point numbers and floats in python\n",
    "# we can do same arithmetic operations same as like as we do in maths"
   ]
  },
  {
   "cell_type": "code",
   "execution_count": 5,
   "metadata": {},
   "outputs": [
    {
     "name": "stdout",
     "output_type": "stream",
     "text": [
      "10\n",
      "5\n",
      "10\n",
      "8.333333333333334\n",
      "8\n",
      "2\n",
      "1000\n"
     ]
    }
   ],
   "source": [
    "print(5 + 5)  \n",
    "print(10 - 5)   \n",
    "print(2 * 5)  \n",
    "print(50 / 6 ) # gives float value \n",
    "print(50 // 6) # gives floor value\n",
    "print(50 % 4)  # gives remainder\n",
    "print(10 ** 3)"
   ]
  },
  {
   "cell_type": "code",
   "execution_count": 6,
   "metadata": {},
   "outputs": [
    {
     "name": "stdout",
     "output_type": "stream",
     "text": [
      "9\n"
     ]
    }
   ],
   "source": [
    "# augmented assignment operators\n",
    "x = 3\n",
    "# if we want to add 3 to x then\n",
    "x = x + 3\n",
    "# another way\n",
    "x += 3\n",
    "print(x)\n",
    "\n",
    "# similarly we have augmented assignment operator to do all other tasks like:\n",
    "# x -= 3\n",
    "# x /= 3\n",
    "# x *= 3"
   ]
  }
 ],
 "metadata": {
  "kernelspec": {
   "display_name": "Python 3",
   "language": "python",
   "name": "python3"
  },
  "language_info": {
   "codemirror_mode": {
    "name": "ipython",
    "version": 3
   },
   "file_extension": ".py",
   "mimetype": "text/x-python",
   "name": "python",
   "nbconvert_exporter": "python",
   "pygments_lexer": "ipython3",
   "version": "3.12.2"
  }
 },
 "nbformat": 4,
 "nbformat_minor": 2
}
