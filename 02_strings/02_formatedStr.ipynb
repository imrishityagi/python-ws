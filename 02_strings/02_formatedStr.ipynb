{
 "cells": [
  {
   "cell_type": "code",
   "execution_count": 1,
   "metadata": {},
   "outputs": [
    {
     "name": "stdout",
     "output_type": "stream",
     "text": [
      "rishabh [tyagi] is a coder\n"
     ]
    }
   ],
   "source": [
    "# formatted strings are very useful where we want to generate some text dynamically along with our variables\n",
    "first = 'rishabh'\n",
    "last = 'tyagi'\n",
    "message = first + ' [' + last + '] is a coder'\n",
    "print(message)   \n",
    "\n",
    "# this is a very tough way to print something which is very simple\n",
    "# also it is very tough to visualize our output when the text size increases"
   ]
  },
  {
   "cell_type": "code",
   "execution_count": 3,
   "metadata": {},
   "outputs": [
    {
     "name": "stdout",
     "output_type": "stream",
     "text": [
      "rishabh [tyagi] is a coder\n"
     ]
    }
   ],
   "source": [
    "# formatted strings makes it easier to visualize our output\n",
    "msg = f'{first} [{last}] is a coder'\n",
    "print(msg)"
   ]
  }
 ],
 "metadata": {
  "kernelspec": {
   "display_name": "base",
   "language": "python",
   "name": "python3"
  },
  "language_info": {
   "codemirror_mode": {
    "name": "ipython",
    "version": 3
   },
   "file_extension": ".py",
   "mimetype": "text/x-python",
   "name": "python",
   "nbconvert_exporter": "python",
   "pygments_lexer": "ipython3",
   "version": "3.11.7"
  }
 },
 "nbformat": 4,
 "nbformat_minor": 2
}
