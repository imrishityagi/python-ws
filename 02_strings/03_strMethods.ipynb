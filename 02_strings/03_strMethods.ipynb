{
 "cells": [
  {
   "cell_type": "code",
   "execution_count": 1,
   "metadata": {},
   "outputs": [
    {
     "name": "stdout",
     "output_type": "stream",
     "text": [
      "20\n"
     ]
    }
   ],
   "source": [
    "# string methods\n",
    "# len() function for finding length, and it is a general purpose function and applicable to all - list, tuple etc\n",
    "course = 'python for beginners'\n",
    "print(len(course))"
   ]
  },
  {
   "cell_type": "code",
   "execution_count": 6,
   "metadata": {},
   "outputs": [
    {
     "name": "stdout",
     "output_type": "stream",
     "text": [
      "PYTHON FOR BEGINNERS\n",
      "python for beginners\n"
     ]
    }
   ],
   "source": [
    "# strings methods - when a function belongs or specific to an object then it is called as method\n",
    "print(course.upper()) # it does not modify the original string\n",
    "print(course)\n",
    "\n",
    "# similar to upper we also have lower and many more"
   ]
  },
  {
   "cell_type": "code",
   "execution_count": 5,
   "metadata": {},
   "outputs": [
    {
     "name": "stdout",
     "output_type": "stream",
     "text": [
      "12\n"
     ]
    }
   ],
   "source": [
    "# finding occurance\n",
    "print(course.find('e')) # it returns the index of first occurance of element and this method is case senstive"
   ]
  },
  {
   "cell_type": "code",
   "execution_count": 8,
   "metadata": {},
   "outputs": [
    {
     "name": "stdout",
     "output_type": "stream",
     "text": [
      "python for developers\n",
      "jython for beginners\n"
     ]
    }
   ],
   "source": [
    "# replacing the value in a string\n",
    "print(course.replace('beginners', 'developers'))\n",
    "print(course.replace('p', 'j'))\n",
    "\n",
    "# this method does not modify the original string"
   ]
  },
  {
   "cell_type": "code",
   "execution_count": 9,
   "metadata": {},
   "outputs": [
    {
     "name": "stdout",
     "output_type": "stream",
     "text": [
      "True\n"
     ]
    }
   ],
   "source": [
    "# checking the existence of something in string\n",
    "print('python' in course)\n",
    "\n",
    "# in gives boolean value and find method gives index "
   ]
  }
 ],
 "metadata": {
  "kernelspec": {
   "display_name": "Python 3",
   "language": "python",
   "name": "python3"
  },
  "language_info": {
   "codemirror_mode": {
    "name": "ipython",
    "version": 3
   },
   "file_extension": ".py",
   "mimetype": "text/x-python",
   "name": "python",
   "nbconvert_exporter": "python",
   "pygments_lexer": "ipython3",
   "version": "3.12.2"
  }
 },
 "nbformat": 4,
 "nbformat_minor": 2
}
