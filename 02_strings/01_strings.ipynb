{
 "cells": [
  {
   "cell_type": "code",
   "execution_count": 2,
   "metadata": {},
   "outputs": [
    {
     "name": "stdout",
     "output_type": "stream",
     "text": [
      "python's course for beginners\n",
      "python course for \"beginners\"\n"
     ]
    }
   ],
   "source": [
    "# we can use single or double quotes to define the strings in python\n",
    "course = 'python for beginners'\n",
    "message = \"hello world\"\n",
    "\n",
    "# but in some cases we have to use quotes wisely\n",
    "# course2 = 'python's course for beginners'  --  this will give use error and to solve this\n",
    "\n",
    "course2 = \"python's course for beginners\"\n",
    "print(course2)\n",
    "\n",
    "# in some cases we have to do this like:\n",
    "# course3 = \"python course for \"beginners\"\"  --  this will also give error, so to solve this\n",
    "course3 = 'python course for \"beginners\"'\n",
    "print(course3)"
   ]
  },
  {
   "cell_type": "code",
   "execution_count": 3,
   "metadata": {},
   "outputs": [
    {
     "name": "stdout",
     "output_type": "stream",
     "text": [
      "'\n",
      "hi john,\n",
      "\n",
      "here is our first email to you\n",
      "\n",
      "thank you,\n",
      "support team.\n",
      "\n"
     ]
    }
   ],
   "source": [
    "# printing the string as it is to the output window\n",
    "message = ''''\n",
    "hi john,\n",
    "\n",
    "here is our first email to you\n",
    "\n",
    "thank you,\n",
    "support team.\n",
    "'''\n",
    "print(message)"
   ]
  },
  {
   "cell_type": "code",
   "execution_count": 9,
   "metadata": {},
   "outputs": [
    {
     "name": "stdout",
     "output_type": "stream",
     "text": [
      "p\n",
      "m\n",
      "pyt\n",
      "python programming is osm\n",
      "pyt\n",
      "python programming is osm\n"
     ]
    }
   ],
   "source": [
    "# accessing the element of the string\n",
    "course = 'python programming is osm'\n",
    "print(course[0])\n",
    "print(course[-1])\n",
    "print(course[0:3]) # 3 is excluded here\n",
    "print(course[0:])  # print till the last from the starting index\n",
    "print(course[:3])  # 0 will be taken as starting index\n",
    "print(course[:])"
   ]
  },
  {
   "cell_type": "code",
   "execution_count": 10,
   "metadata": {},
   "outputs": [
    {
     "name": "stdout",
     "output_type": "stream",
     "text": [
      "ennife\n"
     ]
    }
   ],
   "source": [
    "# excercise - print name from index 1 to -1\n",
    "name = 'jennifer'\n",
    "print(name[1:-1])  # last index is always non-inclusive every time we print or access something"
   ]
  }
 ],
 "metadata": {
  "kernelspec": {
   "display_name": "base",
   "language": "python",
   "name": "python3"
  },
  "language_info": {
   "codemirror_mode": {
    "name": "ipython",
    "version": 3
   },
   "file_extension": ".py",
   "mimetype": "text/x-python",
   "name": "python",
   "nbconvert_exporter": "python",
   "pygments_lexer": "ipython3",
   "version": "3.11.7"
  }
 },
 "nbformat": 4,
 "nbformat_minor": 2
}
